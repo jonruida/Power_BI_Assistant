{
  "cells": [
    {
      "cell_type": "code",
      "execution_count": 1,
      "metadata": {
        "colab": {
          "base_uri": "https://localhost:8080/"
        },
        "id": "lA9iClkUELFi",
        "outputId": "d764fbab-957e-4eb0-ca6e-ae2e71344ef6"
      },
      "outputs": [
        {
          "name": "stdout",
          "output_type": "stream",
          "text": [
            "Note: you may need to restart the kernel to use updated packages.\n"
          ]
        }
      ],
      "source": [
        "# pip install --upgrade --quiet pypdf"
      ]
    },
    {
      "cell_type": "code",
      "execution_count": 2,
      "metadata": {
        "colab": {
          "base_uri": "https://localhost:8080/"
        },
        "id": "Iaer_tihOnD1",
        "outputId": "fb9d0ec6-f0cc-4246-91c0-7c1efc61d99a"
      },
      "outputs": [
        {
          "name": "stdout",
          "output_type": "stream",
          "text": [
            "Note: you may need to restart the kernel to use updated packages.\n"
          ]
        }
      ],
      "source": [
        "# pip install --upgrade --quiet langchain_community\n"
      ]
    },
    {
      "cell_type": "code",
      "execution_count": 10,
      "metadata": {
        "colab": {
          "base_uri": "https://localhost:8080/"
        },
        "id": "krhPz6i6MM_K",
        "outputId": "6d1995c6-e724-4d09-d45e-a18114498035"
      },
      "outputs": [
        {
          "name": "stderr",
          "output_type": "stream",
          "text": [
            "Rotated text discovered. Output will be incomplete.\n"
          ]
        },
        {
          "name": "stdout",
          "output_type": "stream",
          "text": [
            "AGRICULTURE\n",
            "                                                                                                                                                                             BU View         Material View        Last Data Refresh: 4/30/2024\n",
            "       Emissions vs Baseline                  % Total Europe Emis.             Avg. EF Factor vs PY            Emissions (MT CO2e)               Purchase V  olume (MT)                    Managed                  Direct Emissions\n",
            "            -10 %                                    24 %                            0.0 %                           2.59M                             2.62M                              98 %                            5 %\n",
            "             Target: -40 %                                                      1.0   Avg. EF Factor                 0 %     vs PY                       0 %      vs PY\n",
            "\n",
            "\n",
            "YEAR                         Gr   owth by BU Hier   ar   chy                                                       EF Factor    (MT CO2e / MT Pur   ch) by BU Hier   ar   chy\n",
            "\n",
            "2020                          Emissions PY (MT CO2e)      Emissions CY (MT CO2e)       Baseline                                                                                                                         EF Factor\n",
            "\n",
            "                             2M        1.6M                                                                                    UKI TURKEY                                                                                0.4                3.4\n",
            "BU                                                                                                                    FOBO BU        SWE        FRANCE                                                                             1.9\n",
            "All                                                                                                                               CEGB  NE                            UKRAINE                                 BCCA\n",
            "                             1M                                                                                                                    RUSSIA\n",
            "\n",
            "OWNERSHIP                                      0.2M   0.2M   0.1M    0.1M   0.1M   0.1M   0.1M    0.0M   0.0M       0                           1                           2                           3\n",
            "\n",
            "All                         0M\n",
            "                                                          UKI     NE           SWE                                 Detailed Emissions by BU Hier   ar   chy\n",
            "                                 RUSSIAUKRAINE   CEGB                TURKEY        FRANCE    BCCAFOBO BU            REGION                           %      % Reduct.     Emissions      Emis.    Purch. Vol    Vol. vs   EF Factor      EF\n",
            "CATEGORY                                                                                                                                           Emis.     Baseline    (MT CO2e)       vs PY       (MT)         PY        vs PY      Facto\n",
            "\n",
            "                                                                                                                                                                         \n",
            "All                         Agr   o emissions tr   end                                                                Eastern Europe              85 %     -11 %         2,194,349        0 %    1,919,976       0 %         0.0 %      1.1\n"
          ]
        }
      ],
      "source": [
        "from langchain_community.document_loaders import PyPDFLoader\n",
        "\n",
        "file_path = \"Report.pdf\"\n",
        "loader = PyPDFLoader(file_path, extraction_mode=\"layout\") # Layout para descargar disposicion del texto dentro del cuadro de mando\n",
        "pages = loader.load_and_split()\n",
        "\n",
        "print(pages[0].page_content)  # Imprime el contenido de la primera página con etiquetas\n",
        "# Abrir un archivo de texto para escribir el contenido\n",
        "with open(\"PDF_extraido_layout.txt\", \"w\", encoding=\"utf-8\") as file:\n",
        "    for doc in pages:\n",
        "        file.write(doc.page_content + \"\\n\")"
      ]
    },
    {
      "cell_type": "code",
      "execution_count": 11,
      "metadata": {
        "colab": {
          "base_uri": "https://localhost:8080/"
        },
        "id": "PD6nTnWZXA9j",
        "outputId": "7492d933-d6be-4f76-a901-9116e946994e"
      },
      "outputs": [
        {
          "name": "stdout",
          "output_type": "stream",
          "text": [
            "{'source': 'Report.pdf', 'page': 0}\n",
            "{'source': 'Report.pdf', 'page': 0}\n"
          ]
        }
      ],
      "source": [
        "# Metadatos solo muestra número de páginas\n",
        "# for doc in pages:\n",
        "#     print(doc.metadata)"
      ]
    },
    {
      "cell_type": "code",
      "execution_count": 10,
      "metadata": {
        "colab": {
          "base_uri": "https://localhost:8080/"
        },
        "id": "d8k-LH3bPd_u",
        "outputId": "d5206d0a-448e-43dd-9e81-913293ee5450"
      },
      "outputs": [
        {
          "name": "stdout",
          "output_type": "stream",
          "text": [
            "La cadena 'Last Data Refresh' se encontró en las siguientes líneas:\n",
            "15\n",
            "31\n",
            "44\n",
            "70\n",
            "139\n",
            "204\n",
            "256\n",
            "310\n",
            "383\n",
            "432\n",
            "486\n",
            "551\n",
            "615\n",
            "719\n",
            "737\n",
            "845\n",
            "877\n",
            "908\n"
          ]
        }
      ],
      "source": [
        "# # prompt: quiero busca  las veces que aparece y la línea donde aparece \"Last Data Refresh\"dentro de PDF_extraido\n",
        "\n",
        "# import re\n",
        "\n",
        "# def find_string_in_file(filename, search_string):\n",
        "#   \"\"\"Busca una cadena en un archivo y devuelve las líneas donde aparece.\"\"\"\n",
        "#   line_numbers = []\n",
        "#   with open(filename, \"r\", encoding=\"utf-8\") as file:\n",
        "#     for i, line in enumerate(file):\n",
        "#       if search_string in line:\n",
        "#         line_numbers.append(i + 1)\n",
        "#   return line_numbers\n",
        "\n",
        "\n",
        "# filename = \"PDF_extraido.txt\"\n",
        "# search_string = \"Last Data Refresh\"\n",
        "\n",
        "# line_numbers = find_string_in_file(filename, search_string)\n",
        "\n",
        "# if line_numbers:\n",
        "#     print(f\"La cadena '{search_string}' se encontró en las siguientes líneas:\")\n",
        "#     for line_number in line_numbers:\n",
        "#         print(line_number)\n",
        "# else:\n",
        "#     print(f\"La cadena '{search_string}' no se encontró en el archivo.\")\n",
        "\n"
      ]
    }
  ],
  "metadata": {
    "colab": {
      "provenance": []
    },
    "kernelspec": {
      "display_name": "Python 3",
      "name": "python3"
    },
    "language_info": {
      "codemirror_mode": {
        "name": "ipython",
        "version": 3
      },
      "file_extension": ".py",
      "mimetype": "text/x-python",
      "name": "python",
      "nbconvert_exporter": "python",
      "pygments_lexer": "ipython3",
      "version": "3.12.4"
    }
  },
  "nbformat": 4,
  "nbformat_minor": 0
}
