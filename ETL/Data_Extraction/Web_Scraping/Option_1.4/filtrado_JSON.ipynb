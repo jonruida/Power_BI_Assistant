{
 "cells": [
  {
   "cell_type": "code",
   "execution_count": null,
   "metadata": {},
   "outputs": [],
   "source": [
    "!git clone https://github.com/pkoppstein/JESS.git\n"
   ]
  },
  {
   "cell_type": "code",
   "execution_count": null,
   "metadata": {},
   "outputs": [],
   "source": [
    "!pip install jsonlines"
   ]
  },
  {
   "cell_type": "code",
   "execution_count": 3,
   "metadata": {},
   "outputs": [],
   "source": [
    "import json\n",
    "import os\n",
    "\n",
    "def filter_json_file(input_path, output_path):\n",
    "    # Open the file with the correct encoding 'latin-1'\n",
    "    with open(input_path, 'r', encoding='latin-1') as file:\n",
    "        lines = file.readlines()\n",
    "\n",
    "    filtered_data = []\n",
    "\n",
    "    for line in lines:\n",
    "        try:\n",
    "            json_data = json.loads(line)\n",
    "            # Filtrar datos relevantes\n",
    "            if 'results' in json_data:\n",
    "                for result in json_data['results']:\n",
    "                    if 'result' in result and 'data' in result['result']:\n",
    "                        data = result['result']['data']\n",
    "                        filtered_entry = {\n",
    "                            'dsr': data.get('dsr')\n",
    "                        }\n",
    "                        filtered_data.append(filtered_entry)\n",
    "        except json.JSONDecodeError:\n",
    "            print(f\"Error al decodificar JSON en la línea: {line}\")\n",
    "\n",
    "    # Escribir el archivo JSON sin espacios ni saltos de línea innecesarios\n",
    "    with open(output_path, 'w') as outfile:\n",
    "        json.dump(filtered_data, outfile, separators=(',', ':'))\n",
    "\n",
    "input_path = 'captured_responses1.json'\n",
    "output_path = 'archivo_filtrado.json'\n",
    "\n",
    "filter_json_file(input_path, output_path)\n",
    "\n",
    "\n",
    "\n",
    "\n",
    "\n"
   ]
  }
 ],
 "metadata": {
  "kernelspec": {
   "display_name": "Power_BI_Scraper",
   "language": "python",
   "name": "python3"
  },
  "language_info": {
   "codemirror_mode": {
    "name": "ipython",
    "version": 3
   },
   "file_extension": ".py",
   "mimetype": "text/x-python",
   "name": "python",
   "nbconvert_exporter": "python",
   "pygments_lexer": "ipython3",
   "version": "3.12.4"
  }
 },
 "nbformat": 4,
 "nbformat_minor": 2
}
