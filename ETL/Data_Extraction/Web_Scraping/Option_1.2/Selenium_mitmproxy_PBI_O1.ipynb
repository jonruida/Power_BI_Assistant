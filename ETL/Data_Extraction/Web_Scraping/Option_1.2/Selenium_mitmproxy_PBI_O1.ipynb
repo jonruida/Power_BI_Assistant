{
 "cells": [
  {
   "cell_type": "code",
   "execution_count": 25,
   "metadata": {},
   "outputs": [
    {
     "name": "stdout",
     "output_type": "stream",
     "text": [
      "Elemento encontrado, listo para interactuar.\n"
     ]
    }
   ],
   "source": [
    "# Con chrome\n",
    "\n",
    "# from selenium import webdriver\n",
    "# from selenium.webdriver.support.ui import WebDriverWait\n",
    "# from selenium.webdriver.support import expected_conditions as EC\n",
    "# from selenium.webdriver.common.by import By\n",
    "\n",
    "# # Configura las opciones de Chrome\n",
    "# options = webdriver.ChromeOptions()\n",
    "# # options.add_argument('--headless')  # Ejecutar en modo headless si no quieres ver la UI\n",
    "# options.add_argument('--user-agent=\"Mozilla/5.0 (Windows NT 10.0; Win64; x64) AppleWebKit/537.36 (KHTML, like Gecko) Chrome/74.0.3729.157 Safari/537.36\"')\n",
    "# options.add_argument('--proxy-server=http://localhost:8080')  # Configura el proxy de mitmproxy en el puerto 8080\n",
    "# options.add_argument('--ignore-certificate-errors')  # Ignorar los errores de certificados\n",
    "\n",
    "# # Inicia el navegador\n",
    "# driver = webdriver.Chrome(options=options)\n",
    "\n",
    "# # Aumenta el tiempo de espera a 20 segundos\n",
    "# wait = WebDriverWait(driver, 20)\n",
    "\n",
    "# # Abre la página de Power BI\n",
    "# driver.get(\"https://app.powerbi.com/view?r=eyJrIjoiNzA0MGM4NGMtN2E5Ny00NDU3LWJiNzMtOWFlMGIyMDczZjg2IiwidCI6IjM4MmZiOGIwLTRkYzMtNDEwNy04MGJkLTM1OTViMjQzMmZhZSIsImMiOjZ9&pageName=ReportSection\")\n",
    "\n",
    "# try:\n",
    "#     # Espera a que el elemento \"State\" sea visible\n",
    "#     state = wait.until(EC.visibility_of_element_located((By.CSS_SELECTOR, 'div[aria-label=\"State\"]')))\n",
    "#     print(\"Elemento encontrado, listo para interactuar.\")\n",
    "    \n",
    "\n",
    "# finally:\n",
    "#     # Cierra el navegador\n",
    "#     driver.quit()\n"
   ]
  },
  {
   "cell_type": "code",
   "execution_count": 1,
   "metadata": {},
   "outputs": [
    {
     "ename": "WebDriverException",
     "evalue": "Message: Reached error page: about:neterror?e=proxyConnectFailure&u=https%3A//app.fabric.microsoft.com/view%3Fr%3DeyJrIjoiZmM3YWJjNzItNTk3YS00MGE2LTgzMTEtOGY4MmJmYmQzODFmIiwidCI6IjM0YTgyYjJlLTZkYzEtNDI4OS04MDAwLWMxOGE5ZTMzOWE5ZCJ9&c=UTF-8&d=Firefox%20is%20configured%20to%20use%20a%20proxy%20server%20that%20is%20refusing%20connections.\nStacktrace:\nRemoteError@chrome://remote/content/shared/RemoteError.sys.mjs:8:8\nWebDriverError@chrome://remote/content/shared/webdriver/Errors.sys.mjs:193:5\nUnknownError@chrome://remote/content/shared/webdriver/Errors.sys.mjs:832:5\ncheckReadyState@chrome://remote/content/marionette/navigate.sys.mjs:58:24\nonNavigation@chrome://remote/content/marionette/navigate.sys.mjs:343:39\nemit@resource://gre/modules/EventEmitter.sys.mjs:148:20\nreceiveMessage@chrome://remote/content/marionette/actors/MarionetteEventsParent.sys.mjs:33:25\n",
     "output_type": "error",
     "traceback": [
      "\u001b[1;31m---------------------------------------------------------------------------\u001b[0m",
      "\u001b[1;31mWebDriverException\u001b[0m                        Traceback (most recent call last)",
      "Cell \u001b[1;32mIn[1], line 27\u001b[0m\n\u001b[0;32m     24\u001b[0m wait \u001b[38;5;241m=\u001b[39m WebDriverWait(driver, \u001b[38;5;241m30\u001b[39m)\n\u001b[0;32m     26\u001b[0m \u001b[38;5;66;03m# Abre la página de Power BI\u001b[39;00m\n\u001b[1;32m---> 27\u001b[0m \u001b[43mdriver\u001b[49m\u001b[38;5;241;43m.\u001b[39;49m\u001b[43mget\u001b[49m\u001b[43m(\u001b[49m\u001b[38;5;124;43m\"\u001b[39;49m\u001b[38;5;124;43mhttps://app.fabric.microsoft.com/view?r=eyJrIjoiZmM3YWJjNzItNTk3YS00MGE2LTgzMTEtOGY4MmJmYmQzODFmIiwidCI6IjM0YTgyYjJlLTZkYzEtNDI4OS04MDAwLWMxOGE5ZTMzOWE5ZCJ9\u001b[39;49m\u001b[38;5;124;43m\"\u001b[39;49m\u001b[43m)\u001b[49m\n\u001b[0;32m     29\u001b[0m \u001b[38;5;28;01mtry\u001b[39;00m:\n\u001b[0;32m     30\u001b[0m     \u001b[38;5;66;03m# Espera a que el elemento \"State\" sea visible\u001b[39;00m\n\u001b[0;32m     31\u001b[0m     \u001b[38;5;66;03m# state = wait.until(EC.visibility_of_element_located((By.CSS_SELECTOR, 'div[aria-label=\"State\"]')))\u001b[39;00m\n\u001b[0;32m     32\u001b[0m     \u001b[38;5;28mprint\u001b[39m(\u001b[38;5;124m\"\u001b[39m\u001b[38;5;124mElemento encontrado, listo para interactuar.\u001b[39m\u001b[38;5;124m\"\u001b[39m)\n",
      "File \u001b[1;32mc:\\Users\\jon.ruizcarrillo\\AppData\\Local\\anaconda3\\envs\\Power_BI_Scraper\\Lib\\site-packages\\selenium\\webdriver\\remote\\webdriver.py:363\u001b[0m, in \u001b[0;36mWebDriver.get\u001b[1;34m(self, url)\u001b[0m\n\u001b[0;32m    361\u001b[0m \u001b[38;5;28;01mdef\u001b[39;00m \u001b[38;5;21mget\u001b[39m(\u001b[38;5;28mself\u001b[39m, url: \u001b[38;5;28mstr\u001b[39m) \u001b[38;5;241m-\u001b[39m\u001b[38;5;241m>\u001b[39m \u001b[38;5;28;01mNone\u001b[39;00m:\n\u001b[0;32m    362\u001b[0m \u001b[38;5;250m    \u001b[39m\u001b[38;5;124;03m\"\"\"Loads a web page in the current browser session.\"\"\"\u001b[39;00m\n\u001b[1;32m--> 363\u001b[0m     \u001b[38;5;28;43mself\u001b[39;49m\u001b[38;5;241;43m.\u001b[39;49m\u001b[43mexecute\u001b[49m\u001b[43m(\u001b[49m\u001b[43mCommand\u001b[49m\u001b[38;5;241;43m.\u001b[39;49m\u001b[43mGET\u001b[49m\u001b[43m,\u001b[49m\u001b[43m \u001b[49m\u001b[43m{\u001b[49m\u001b[38;5;124;43m\"\u001b[39;49m\u001b[38;5;124;43murl\u001b[39;49m\u001b[38;5;124;43m\"\u001b[39;49m\u001b[43m:\u001b[49m\u001b[43m \u001b[49m\u001b[43murl\u001b[49m\u001b[43m}\u001b[49m\u001b[43m)\u001b[49m\n",
      "File \u001b[1;32mc:\\Users\\jon.ruizcarrillo\\AppData\\Local\\anaconda3\\envs\\Power_BI_Scraper\\Lib\\site-packages\\selenium\\webdriver\\remote\\webdriver.py:354\u001b[0m, in \u001b[0;36mWebDriver.execute\u001b[1;34m(self, driver_command, params)\u001b[0m\n\u001b[0;32m    352\u001b[0m response \u001b[38;5;241m=\u001b[39m \u001b[38;5;28mself\u001b[39m\u001b[38;5;241m.\u001b[39mcommand_executor\u001b[38;5;241m.\u001b[39mexecute(driver_command, params)\n\u001b[0;32m    353\u001b[0m \u001b[38;5;28;01mif\u001b[39;00m response:\n\u001b[1;32m--> 354\u001b[0m     \u001b[38;5;28;43mself\u001b[39;49m\u001b[38;5;241;43m.\u001b[39;49m\u001b[43merror_handler\u001b[49m\u001b[38;5;241;43m.\u001b[39;49m\u001b[43mcheck_response\u001b[49m\u001b[43m(\u001b[49m\u001b[43mresponse\u001b[49m\u001b[43m)\u001b[49m\n\u001b[0;32m    355\u001b[0m     response[\u001b[38;5;124m\"\u001b[39m\u001b[38;5;124mvalue\u001b[39m\u001b[38;5;124m\"\u001b[39m] \u001b[38;5;241m=\u001b[39m \u001b[38;5;28mself\u001b[39m\u001b[38;5;241m.\u001b[39m_unwrap_value(response\u001b[38;5;241m.\u001b[39mget(\u001b[38;5;124m\"\u001b[39m\u001b[38;5;124mvalue\u001b[39m\u001b[38;5;124m\"\u001b[39m, \u001b[38;5;28;01mNone\u001b[39;00m))\n\u001b[0;32m    356\u001b[0m     \u001b[38;5;28;01mreturn\u001b[39;00m response\n",
      "File \u001b[1;32mc:\\Users\\jon.ruizcarrillo\\AppData\\Local\\anaconda3\\envs\\Power_BI_Scraper\\Lib\\site-packages\\selenium\\webdriver\\remote\\errorhandler.py:229\u001b[0m, in \u001b[0;36mErrorHandler.check_response\u001b[1;34m(self, response)\u001b[0m\n\u001b[0;32m    227\u001b[0m         alert_text \u001b[38;5;241m=\u001b[39m value[\u001b[38;5;124m\"\u001b[39m\u001b[38;5;124malert\u001b[39m\u001b[38;5;124m\"\u001b[39m]\u001b[38;5;241m.\u001b[39mget(\u001b[38;5;124m\"\u001b[39m\u001b[38;5;124mtext\u001b[39m\u001b[38;5;124m\"\u001b[39m)\n\u001b[0;32m    228\u001b[0m     \u001b[38;5;28;01mraise\u001b[39;00m exception_class(message, screen, stacktrace, alert_text)  \u001b[38;5;66;03m# type: ignore[call-arg]  # mypy is not smart enough here\u001b[39;00m\n\u001b[1;32m--> 229\u001b[0m \u001b[38;5;28;01mraise\u001b[39;00m exception_class(message, screen, stacktrace)\n",
      "\u001b[1;31mWebDriverException\u001b[0m: Message: Reached error page: about:neterror?e=proxyConnectFailure&u=https%3A//app.fabric.microsoft.com/view%3Fr%3DeyJrIjoiZmM3YWJjNzItNTk3YS00MGE2LTgzMTEtOGY4MmJmYmQzODFmIiwidCI6IjM0YTgyYjJlLTZkYzEtNDI4OS04MDAwLWMxOGE5ZTMzOWE5ZCJ9&c=UTF-8&d=Firefox%20is%20configured%20to%20use%20a%20proxy%20server%20that%20is%20refusing%20connections.\nStacktrace:\nRemoteError@chrome://remote/content/shared/RemoteError.sys.mjs:8:8\nWebDriverError@chrome://remote/content/shared/webdriver/Errors.sys.mjs:193:5\nUnknownError@chrome://remote/content/shared/webdriver/Errors.sys.mjs:832:5\ncheckReadyState@chrome://remote/content/marionette/navigate.sys.mjs:58:24\nonNavigation@chrome://remote/content/marionette/navigate.sys.mjs:343:39\nemit@resource://gre/modules/EventEmitter.sys.mjs:148:20\nreceiveMessage@chrome://remote/content/marionette/actors/MarionetteEventsParent.sys.mjs:33:25\n"
     ]
    }
   ],
   "source": [
    "# Con Firefox\n",
    "\n",
    "from selenium import webdriver\n",
    "from selenium.webdriver.firefox.options import Options\n",
    "from selenium.webdriver.support.ui import WebDriverWait\n",
    "from selenium.webdriver.support import expected_conditions as EC\n",
    "from selenium.webdriver.common.by import By\n",
    "\n",
    "# Configura las opciones de Firefox\n",
    "options = Options()\n",
    "# options.add_argument(\"--headless\")  # Ejecutar en modo headless Ejecutar en modo headless si no quieres ver la UI\n",
    "options.set_preference('general.useragent.override', 'Mozilla/5.0 (Windows NT 10.0; Win64; x64) AppleWebKit/537.36 (KHTML, like Gecko) Firefox/74.0')\n",
    "options.set_preference('network.proxy.type', 1)  # Configura el uso del proxy\n",
    "options.set_preference('network.proxy.http', 'localhost')\n",
    "options.set_preference('network.proxy.http_port', 8080)\n",
    "options.set_preference('network.proxy.ssl', 'localhost')\n",
    "options.set_preference('network.proxy.ssl_port', 8080)\n",
    "options.set_preference('security.enterprise_roots.enabled', True)  # Ignorar los errores de certificados\n",
    "\n",
    "# Inicia el navegador\n",
    "driver = webdriver.Firefox(options=options)\n",
    "\n",
    "# Aumenta el tiempo de espera a 20 segundos\n",
    "wait = WebDriverWait(driver, 30)\n",
    "\n",
    "# Abre la página de Power BI\n",
    "driver.get(\"https://app.fabric.microsoft.com/view?r=eyJrIjoiZmM3YWJjNzItNTk3YS00MGE2LTgzMTEtOGY4MmJmYmQzODFmIiwidCI6IjM0YTgyYjJlLTZkYzEtNDI4OS04MDAwLWMxOGE5ZTMzOWE5ZCJ9\")\n",
    "\n",
    "try:\n",
    "    # Espera a que el elemento \"State\" sea visible\n",
    "    # state = wait.until(EC.visibility_of_element_located((By.CSS_SELECTOR, 'div[aria-label=\"State\"]')))\n",
    "    print(\"Elemento encontrado, listo para interactuar.\")\n",
    "    \n",
    "finally:\n",
    "    # Cierra el navegador\n",
    "    driver.quit()\n",
    "\n"
   ]
  },
  {
   "cell_type": "code",
   "execution_count": null,
   "metadata": {},
   "outputs": [],
   "source": [
    "# mitmdump -w outfile \"~h X-PowerBI\""
   ]
  }
 ],
 "metadata": {
  "kernelspec": {
   "display_name": "Python 3",
   "language": "python",
   "name": "python3"
  },
  "language_info": {
   "codemirror_mode": {
    "name": "ipython",
    "version": 3
   },
   "file_extension": ".py",
   "mimetype": "text/x-python",
   "name": "python",
   "nbconvert_exporter": "python",
   "pygments_lexer": "ipython3",
   "version": "3.12.4"
  }
 },
 "nbformat": 4,
 "nbformat_minor": 2
}
