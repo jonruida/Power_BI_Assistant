{
 "cells": [
  {
   "cell_type": "code",
   "execution_count": null,
   "metadata": {},
   "outputs": [],
   "source": [
    "# https://pbi-guy.com/2023/11/17/export-power-bi-reports-as-pdf-via-rest-api/"
   ]
  },
  {
   "cell_type": "code",
   "execution_count": 1,
   "metadata": {},
   "outputs": [],
   "source": [
    "from powerbiclient import QuickVisualize, get_dataset_config, Report\n",
    "from powerbiclient.authentication import DeviceCodeLoginAuthentication\n",
    "\n",
    "import pandas as pd\n",
    "#Import needed libraries\n",
    "import requests\n",
    "import json\n",
    "import pandas as pd\n",
    "import msal\n",
    "import os\n"
   ]
  },
  {
   "cell_type": "code",
   "execution_count": null,
   "metadata": {},
   "outputs": [],
   "source": [
    "#Specify Parameters\n",
    "\n",
    "#Service Principal\n",
    "client_id = ''\n",
    "client_secret = ''\n",
    "\n",
    "#Tenant Specification\n",
    "tenant_id = ''\n",
    "authority_url = 'https://login.microsoftonline.com/' + tenant_id\n",
    "scope = ['https://analysis.windows.net/powerbi/api/.default']\n",
    "\n",
    "#Report Specification\n",
    "workspace_id = ''\n",
    "report_id = ''\n",
    "dataset_id = ''\n",
    "base_url = 'https://api.powerbi.com/v1.0/myorg/groups/' + workspace_id + '/reports/' + report_id\n",
    "format = 'PDF'\n",
    "body = {\n",
    "\n",
    "    \"format\": format\n",
    "}\n",
    "\n",
    "#Report File Specification\n",
    "path = ''"
   ]
  },
  {
   "cell_type": "code",
   "execution_count": 4,
   "metadata": {},
   "outputs": [
    {
     "name": "stdout",
     "output_type": "stream",
     "text": [
      "Performing device flow authentication. Please follow the instructions below.\n",
      "To sign in, use a web browser to open the page https://microsoft.com/devicelogin and enter the code DCK9F2JMX to authenticate.\n",
      "\n",
      "Device flow authentication successfully completed.\n",
      "You are now logged in .\n",
      "\n",
      "The result should be passed only to trusted code in your notebook.\n"
     ]
    }
   ],
   "source": [
    "device_auth = DeviceCodeLoginAuthentication()\n"
   ]
  },
  {
   "cell_type": "code",
   "execution_count": 6,
   "metadata": {},
   "outputs": [],
   "source": [
    "access_token = device_auth.get_access_token()\n"
   ]
  },
  {
   "cell_type": "code",
   "execution_count": 23,
   "metadata": {},
   "outputs": [],
   "source": [
    "\n",
    "group_id = \"311729c8-2fb1-4680-be24-ca5dc1d5070c\"\n",
    "report_id = \"fed55ec5-3ccd-4a4a-835d-19d8ead596f8\"\n",
    "report = Report(group_id=group_id, report_id=report_id, auth=device_auth)\n"
   ]
  }
 ],
 "metadata": {
  "kernelspec": {
   "display_name": "Power_BI_Scraper",
   "language": "python",
   "name": "python3"
  },
  "language_info": {
   "codemirror_mode": {
    "name": "ipython",
    "version": 3
   },
   "file_extension": ".py",
   "mimetype": "text/x-python",
   "name": "python",
   "nbconvert_exporter": "python",
   "pygments_lexer": "ipython3",
   "version": "3.12.4"
  }
 },
 "nbformat": 4,
 "nbformat_minor": 2
}
